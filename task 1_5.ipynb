{
 "cells": [
  {
   "cell_type": "markdown",
   "metadata": {},
   "source": [
    "Кондратьев Алексей Алексеевич 302, ВМК"
   ]
  },
  {
   "cell_type": "code",
   "execution_count": 44,
   "metadata": {},
   "outputs": [],
   "source": [
    "import matplotlib.pyplot as plt"
   ]
  },
  {
   "cell_type": "markdown",
   "metadata": {},
   "source": [
    "Для проверки наблюдений был взят сам NC_045512.2, два похожих на него генома MN996528.1 (Per.Ident 100.00%), MT019531.1 (Per.Ident 100.00%), и два чуть менее похожих AY394991.1 (Per.Ident 82.30%) , GQ153544.1 (Per.Ident 81.62%)"
   ]
  },
  {
   "cell_type": "markdown",
   "metadata": {},
   "source": [
    "# #C $\\approx$ #G, #T $\\approx$ #A"
   ]
  },
  {
   "cell_type": "code",
   "execution_count": 55,
   "metadata": {},
   "outputs": [],
   "source": [
    "with open('MN996528.1.txt') as file_1:\n",
    "    mn = file_1.read().replace('\\n', '')\n",
    "with open('MT019531.1.txt') as file_2:\n",
    "    mt = file_2.read().replace('\\n', '')\n",
    "with open('NC045512.2.txt') as file_3:\n",
    "    nc = file_3.read().replace('\\n', '')\n",
    "    \n",
    "with open('AY394991.1.txt') as file_2:\n",
    "    ay = file_2.read().replace('\\n', '')\n",
    "with open('GQ153544.1.txt') as file_3:\n",
    "    gq = file_3.read().replace('\\n', '')"
   ]
  },
  {
   "cell_type": "code",
   "execution_count": 59,
   "metadata": {},
   "outputs": [],
   "source": [
    "letters = ['A', 'T', 'C', 'G']\n",
    "mn_occ = { x: mn.count(x) for x in letters}\n",
    "mt_occ = { x: mt.count(x) for x in letters}\n",
    "nc_occ = { x: nc.count(x) for x in letters}\n",
    "\n",
    "ay_occ = { x: ay.count(x) for x in letters}\n",
    "gq_occ = { x: gq.count(x) for x in letters}\n"
   ]
  },
  {
   "cell_type": "code",
   "execution_count": 60,
   "metadata": {},
   "outputs": [
    {
     "name": "stdout",
     "output_type": "stream",
     "text": [
      "{'A': 8942, 'T': 9594, 'C': 5492, 'G': 5863} \n",
      " {'A': 8950, 'T': 9593, 'C': 5493, 'G': 5863} \n",
      " {'A': 8954, 'T': 9594, 'C': 5492, 'G': 5863} \n",
      "\n",
      " {'A': 8478, 'T': 9136, 'C': 5938, 'G': 6186} \n",
      " {'A': 8413, 'T': 9063, 'C': 5937, 'G': 6284}\n"
     ]
    }
   ],
   "source": [
    "print(mn_occ, '\\n',mt_occ,'\\n', nc_occ, '\\n\\n', ay_occ, '\\n', gq_occ)"
   ]
  },
  {
   "cell_type": "markdown",
   "metadata": {},
   "source": [
    "В целом соответствует утверждению."
   ]
  },
  {
   "cell_type": "markdown",
   "metadata": {},
   "source": [
    "# Слов CG мало в определенных геномах.\n",
    "# Слов TA мало во всех ДНК геномах"
   ]
  },
  {
   "cell_type": "code",
   "execution_count": 62,
   "metadata": {},
   "outputs": [],
   "source": [
    "words = ['CG', 'TA']\n",
    "mn_w = { x: mn.count(x) for x in words}\n",
    "mt_w = { x: mt.count(x) for x in words}\n",
    "nc_w = { x: nc.count(x) for x in words}\n",
    "\n",
    "ay_w = { x: ay.count(x) for x in words}\n",
    "gq_w = { x: gq.count(x) for x in words}"
   ]
  },
  {
   "cell_type": "code",
   "execution_count": 63,
   "metadata": {},
   "outputs": [
    {
     "name": "stdout",
     "output_type": "stream",
     "text": [
      "{'CG': 439, 'TA': 2377} \n",
      " {'CG': 439, 'TA': 2377} \n",
      " {'CG': 439, 'TA': 2377} \n",
      "\n",
      " {'CG': 568, 'TA': 2077} \n",
      " {'CG': 626, 'TA': 2073}\n"
     ]
    }
   ],
   "source": [
    "print(mn_w, '\\n',mt_w,'\\n', nc_w, '\\n\\n', ay_w, '\\n', gq_w)"
   ]
  },
  {
   "cell_type": "markdown",
   "metadata": {},
   "source": [
    "Не очень понял, по сравнению с чем должны быть малы эти показатели"
   ]
  },
  {
   "cell_type": "markdown",
   "metadata": {},
   "source": [
    "# В некоторых геномах #C > #G в одной части и #G > #C в другой части (\"GC skew\")"
   ]
  },
  {
   "cell_type": "code",
   "execution_count": 50,
   "metadata": {},
   "outputs": [],
   "source": [
    "def find(genom, letter):\n",
    "    return [i for i, c in enumerate(genom) if c == letter]"
   ]
  },
  {
   "cell_type": "code",
   "execution_count": 68,
   "metadata": {},
   "outputs": [],
   "source": [
    "mn_c_pos = find(mn, 'C')\n",
    "mn_g_pos = find(mn, 'G')\n",
    "\n",
    "mt_c_pos = find(mt, 'C')\n",
    "mt_g_pos = find(mt, 'G')\n",
    "\n",
    "nc_c_pos = find(nc, 'C')\n",
    "nc_g_pos = find(nc, 'G')\n",
    "\n",
    "ay_c_pos = find(ay, 'C')\n",
    "ay_g_pos = find(ay, 'G')\n",
    "\n",
    "gq_c_pos = find(gq, 'C')\n",
    "gq_g_pos = find(gq, 'G')"
   ]
  },
  {
   "cell_type": "code",
   "execution_count": 69,
   "metadata": {},
   "outputs": [
    {
     "data": {
      "text/plain": [
       "<matplotlib.legend.Legend at 0x7ff97d532c50>"
      ]
     },
     "execution_count": 69,
     "metadata": {},
     "output_type": "execute_result"
    },
    {
     "data": {
      "image/png": "[encoded data removed]",
      "text/plain": [
       "<Figure size 432x288 with 1 Axes>"
      ]
     },
     "metadata": {
      "needs_background": "light"
     },
     "output_type": "display_data"
    }
   ],
   "source": [
    "kwargs = dict(alpha=0.5, bins=100, density=True, stacked=True)\n",
    "\n",
    "plt.hist(mn_c_pos, **kwargs, color='g', label='C')\n",
    "plt.hist(mn_g_pos, **kwargs, color='r', label='G')\n",
    "\n",
    "plt.gca().set(title='C amount in MN parts')\n",
    "plt.legend()"
   ]
  },
  {
   "cell_type": "markdown",
   "metadata": {},
   "source": [
    "Смотреть на остальные геномы из первой тройки не так уж интересно, слишком уж схожие графики"
   ]
  },
  {
   "cell_type": "code",
   "execution_count": 71,
   "metadata": {},
   "outputs": [
    {
     "data": {
      "text/plain": [
       "<matplotlib.legend.Legend at 0x7ff97cbee9d0>"
      ]
     },
     "execution_count": 71,
     "metadata": {},
     "output_type": "execute_result"
    },
    {
     "data": {
      "image/png": "[encoded data removed]",
      "text/plain": [
       "<Figure size 432x288 with 1 Axes>"
      ]
     },
     "metadata": {
      "needs_background": "light"
     },
     "output_type": "display_data"
    }
   ],
   "source": [
    "plt.hist(ay_c_pos, **kwargs, color='g', label='C')\n",
    "plt.hist(ay_g_pos, **kwargs, color='r', label='G')\n",
    "\n",
    "plt.gca().set(title='C amount in AY parts')\n",
    "plt.legend()"
   ]
  },
  {
   "cell_type": "code",
   "execution_count": 72,
   "metadata": {},
   "outputs": [
    {
     "data": {
      "text/plain": [
       "<matplotlib.legend.Legend at 0x7ff97ca47f90>"
      ]
     },
     "execution_count": 72,
     "metadata": {},
     "output_type": "execute_result"
    },
    {
     "data": {
      "image/png": "[encoded data removed]",
      "text/plain": [
       "<Figure size 432x288 with 1 Axes>"
      ]
     },
     "metadata": {
      "needs_background": "light"
     },
     "output_type": "display_data"
    }
   ],
   "source": [
    "plt.hist(gq_c_pos, **kwargs, color='g', label='C')\n",
    "plt.hist(gq_g_pos, **kwargs, color='r', label='G')\n",
    "\n",
    "plt.gca().set(title='C amount in GQ parts')\n",
    "plt.legend()"
   ]
  },
  {
   "cell_type": "markdown",
   "metadata": {},
   "source": [
    "Легко можно видеть, что во всех случаях данное утверждение подтверждается."
   ]
  },
  {
   "cell_type": "code",
   "execution_count": null,
   "metadata": {},
   "outputs": [],
   "source": []
  }
 ],
 "metadata": {
  "kernelspec": {
   "display_name": "Python 3",
   "language": "python",
   "name": "python3"
  },
  "language_info": {
   "codemirror_mode": {
    "name": "ipython",
    "version": 3
   },
   "file_extension": ".py",
   "mimetype": "text/x-python",
   "name": "python",
   "nbconvert_exporter": "python",
   "pygments_lexer": "ipython3",
   "version": "3.7.4"
  }
 },
 "nbformat": 4,
 "nbformat_minor": 2
}
